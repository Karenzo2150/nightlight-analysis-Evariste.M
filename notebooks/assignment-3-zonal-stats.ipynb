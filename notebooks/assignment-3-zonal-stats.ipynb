{
 "cells": [
  {
   "cell_type": "markdown",
   "id": "9789b479",
   "metadata": {},
   "source": [
    "# Generating Zonal Statistics with a Custom Script\n",
    "This notebook demonstrates how to generate zonal statistics using a custom Python script, with a focus on analyzing night light intensity across administrative regions in Rwanda. You will learn how to set up your workspace, import and prepare geospatial data, clip global raster datasets to a country boundary, and visualize the results. The workflow includes using custom utilities for zonal statistics, merging results with administrative boundaries, and saving the outputs for further analysis. This hands-on approach provides practical experience with geospatial data processing, raster analysis, and the integration of Python geospatial libraries such as geopandas and rasterio.\n",
    "\n",
    "**Zonal statistics** are summary statistics (such as mean, sum, median, minimum, or maximum) calculated for values of a raster dataset within the boundaries of defined zones, such as polygons representing administrative regions or land cover types.\n"
   ]
  },
  {
   "cell_type": "markdown",
   "id": "45454706",
   "metadata": {},
   "source": [
    "## Setup and Imports"
   ]
  },
  {
   "attachments": {
    "image.png": {
     "image/png": "[encoded data removed]"
    }
   },
   "cell_type": "markdown",
   "id": "ce434e66",
   "metadata": {},
   "source": [
    "### Environment test: Screenshot of Python importing all packages successfully\n",
    "![image.png](attachment:image.png)"
   ]
  },
  {
   "cell_type": "code",
   "execution_count": 1,
   "id": "11f13a1c",
   "metadata": {},
   "outputs": [
    {
     "name": "stdout",
     "output_type": "stream",
     "text": [
      "Current Directory: D:\\Documents\\AIMS_DSCBI_Training\\nightlight-analysis-Evariste.M\n"
     ]
    }
   ],
   "source": [
    "import os\n",
    "path = r\"D:\\Documents\\AIMS_DSCBI_Training\\nightlight-analysis-Evariste.M\"\n",
    "os.chdir(path)\n",
    "print(\"Current Directory:\", os.getcwd())"
   ]
  },
  {
   "cell_type": "code",
   "execution_count": 2,
   "id": "ede80bbf",
   "metadata": {},
   "outputs": [
    {
     "name": "stdout",
     "output_type": "stream",
     "text": [
      "All packages imported successfully!\n",
      "GDAL version: 3.6.2\n",
      "GeoPandas version: 0.12.2\n",
      "rasterio version: 1.4.3\n",
      "pandas version: 2.3.1\n",
      "numpy version: 1.26.4\n",
      "matplot version: 3.9.2\n",
      "seaborn version: 3.9.2\n"
     ]
    }
   ],
   "source": [
    "from osgeo import gdal\n",
    "import geopandas\n",
    "import rasterio\n",
    "import pandas\n",
    "import numpy\n",
    "import matplotlib\n",
    "import seaborn\n",
    "print(\"All packages imported successfully!\")\n",
    "print(f\"GDAL version: {gdal.__version__}\")\n",
    "print(f\"GeoPandas version: {geopandas.__version__}\")\n",
    "print(f\"rasterio version: {rasterio.__version__}\")\n",
    "print(f\"pandas version: {pandas.__version__}\")\n",
    "print(f\"numpy version: {numpy.__version__}\")\n",
    "print(f\"matplot version: {matplotlib.__version__}\")\n",
    "print(f\"seaborn version: {matplotlib.__version__}\")\n"
   ]
  },
  {
   "cell_type": "markdown",
   "id": "49a7ce40",
   "metadata": {},
   "source": [
    "### Required Packages"
   ]
  },
  {
   "cell_type": "code",
   "execution_count": 33,
   "id": "4e510b1e",
   "metadata": {},
   "outputs": [],
   "source": [
    "import sys\n",
    "from pathlib import Path\n",
    "import os\n",
    "import pandas as pd\n",
    "import numpy as np\n",
    "import geopandas as gp\n",
    "import matplotlib.pyplot as plt\n",
    "import seaborn as sns\n",
    "import rasterio\n",
    "from rasterio.mask import mask\n",
    "from rasterio.warp import calculate_default_transform, reproject, Resampling\n",
    "import warnings\n",
    "warnings.filterwarnings('ignore')"
   ]
  },
  {
   "cell_type": "markdown",
   "id": "5bfdcce3",
   "metadata": {},
   "source": [
    "### Workspace Directory Setup"
   ]
  },
  {
   "cell_type": "code",
   "execution_count": 7,
   "id": "d5ac7d2c",
   "metadata": {},
   "outputs": [],
   "source": [
    "DIR_WORKSPACE = Path.cwd().parents[0]\n",
    "DIR_DATA = DIR_WORKSPACE /\"nightlight-analysis-Evariste.M\"/\"nightlight-analysis\"/\"data\"\n",
    "DIR_SRC = DIR_WORKSPACE /\"nightlight-analysis-Evariste.M\"/\"nightlight-analysis\"/ \"src\""
   ]
  },
  {
   "cell_type": "markdown",
   "id": "92ccdb69",
   "metadata": {},
   "source": [
    "### Import Custom Python Script"
   ]
  },
  {
   "cell_type": "code",
   "execution_count": 32,
   "id": "4377d5f2",
   "metadata": {},
   "outputs": [
    {
     "data": {
      "text/plain": [
       "WindowsPath('D:/Documents/AIMS_DSCBI_Training/nightlight-analysis-Evariste.M/nightlight-analysis/src')"
      ]
     },
     "execution_count": 32,
     "metadata": {},
     "output_type": "execute_result"
    }
   ],
   "source": [
    "# Add src directory to path to import our custom script\n",
    "sys.path.append(str(DIR_SRC))\n",
    "DIR_SRC"
   ]
  },
  {
   "cell_type": "code",
   "execution_count": 12,
   "id": "860fa277",
   "metadata": {},
   "outputs": [
    {
     "data": {
      "text/plain": [
       "spatial_utils.zonal_stats.ZonalStatistics"
      ]
     },
     "execution_count": 12,
     "metadata": {},
     "output_type": "execute_result"
    }
   ],
   "source": [
    "# We can now import our custom package\n",
    "# There are cleaner ways to handle local imports but this works for now\n",
    "from spatial_utils.zonal_stats import ZonalStatistics\n",
    "ZonalStatistics"
   ]
  },
  {
   "cell_type": "markdown",
   "id": "8fe7e43e",
   "metadata": {
    "vscode": {
     "languageId": "markdown"
    }
   },
   "source": [
    "### Input Data Files \n",
    "For the night lights file, please make sure you unzip it first. "
   ]
  },
  {
   "cell_type": "code",
   "execution_count": 19,
   "id": "db36f337",
   "metadata": {},
   "outputs": [
    {
     "data": {
      "text/plain": [
       "WindowsPath('D:/Documents/AIMS_DSCBI_Training/nightlight-analysis-Evariste.M/nightlight-analysis/data/ntl/VNL_npp_2024_global_vcmslcfg_v2_c202502261200.average_masked.dat.tif')"
      ]
     },
     "execution_count": 19,
     "metadata": {},
     "output_type": "execute_result"
    }
   ],
   "source": [
    "# ==========================================\n",
    "# FILE PATHS\n",
    "# ===========================================\n",
    "\n",
    "# Unzipped night lights raster file with \"tif\" extension\n",
    "FILE_NTL = DIR_DATA / \"ntl/VNL_npp_2024_global_vcmslcfg_v2_c202502261200.average_masked.dat.tif\"\n",
    "\n",
    "# Shapefile with cell level (admin region level 4) boundaries \n",
    "FILE_SHP_ADM4 = DIR_DATA / \"pop-demo-infra/adm4-pop-buildings.shp\"\n",
    "\n",
    "# Shapefile with national boundaries (admin region level 0)\n",
    "FILE_SHP_ADM0 = DIR_DATA / \"geoBoundaries-RWA-ADM0-all/geoBoundaries-RWA-ADM0.shp\"\n",
    "\n",
    "FILE_SHP_ADM0\n",
    "FILE_NTL"
   ]
  },
  {
   "cell_type": "markdown",
   "id": "e940ac74",
   "metadata": {},
   "source": [
    "## Zonal Statistics Analysis"
   ]
  },
  {
   "cell_type": "markdown",
   "id": "b9607e4b",
   "metadata": {},
   "source": [
    "### Clip Global Raster to Rwanda \n",
    "To make the raster file smaller and more manageable, we will clip (cut) it to the boundary of Rwanda. This step extracts only the portion of the raster that falls within Rwanda’s borders, reducing file size and improving processing efficiency."
   ]
  },
  {
   "cell_type": "code",
   "execution_count": 27,
   "id": "0cade007",
   "metadata": {},
   "outputs": [],
   "source": [
    "def clip_raster_to_boundary(input_raster_path, boundary_gdf, output_path):\n",
    "    \"\"\"\n",
    "    Clip a global raster to a country boundary\n",
    "    \n",
    "    Parameters:\n",
    "    -----------\n",
    "    input_raster_path : str\n",
    "        Path to input raster file\n",
    "    boundary_gdf : geopandas.GeoDataFrame\n",
    "        Boundary for clipping\n",
    "    output_path : str\n",
    "        Path for output clipped raster\n",
    "    \n",
    "    Returns:\n",
    "    --------\n",
    "    str : Path to clipped raster\n",
    "    \"\"\"\n",
    "    print(f\"Clipping global raster to Rwanda boundary...\")\n",
    "    \n",
    "    with rasterio.open(input_raster_path) as src:\n",
    "        print(f\"Original raster info:\")\n",
    "        print(f\"  - Shape: {src.width} x {src.height}\")\n",
    "        print(f\"  - CRS: {src.crs}\")\n",
    "        print(f\"  - Bounds: {src.bounds}\")\n",
    "        print(f\"  - Resolution: {src.res}\")\n",
    "        \n",
    "        # Reproject boundary to match raster CRS if needed\n",
    "        if boundary_gdf.crs != src.crs:\n",
    "            print(f\"Reprojecting boundary from {boundary_gdf.crs} to {src.crs}\")\n",
    "            boundary_gdf = boundary_gdf.to_crs(src.crs)\n",
    "        \n",
    "        # Clip raster\n",
    "        clipped_data, clipped_transform = mask(\n",
    "            src, \n",
    "            boundary_gdf.geometry, \n",
    "            crop=True,\n",
    "            nodata=src.nodata\n",
    "        )\n",
    "        \n",
    "        # Update metadata\n",
    "        clipped_meta = src.meta.copy()\n",
    "        clipped_meta.update({\n",
    "            \"driver\": \"GTiff\",\n",
    "            \"height\": clipped_data.shape[1],\n",
    "            \"width\": clipped_data.shape[2],\n",
    "            \"transform\": clipped_transform\n",
    "        })\n",
    "        \n",
    "        # Create output directory if needed\n",
    "        os.makedirs(os.path.dirname(output_path), exist_ok=True)\n",
    "        \n",
    "        # Write clipped raster\n",
    "        with rasterio.open(output_path, \"w\", **clipped_meta) as dest:\n",
    "            dest.write(clipped_data)\n",
    "        \n",
    "        print(f\"✓ Clipped raster saved to: {output_path}\")\n",
    "        print(f\"Clipped raster info:\")\n",
    "        print(f\"  - Shape: {clipped_data.shape[2]} x {clipped_data.shape[1]}\")\n",
    "        print(f\"  - Data range: {np.nanmin(clipped_data)} to {np.nanmax(clipped_data)}\")\n",
    "        \n",
    "    return output_path"
   ]
  },
  {
   "cell_type": "code",
   "execution_count": 26,
   "id": "eca78c04",
   "metadata": {},
   "outputs": [
    {
     "data": {
      "text/plain": [
       "WindowsPath('D:/Documents/AIMS_DSCBI_Training/nightlight-analysis-Evariste.M/nightlight-analysis/data/ntl/clipped_ntl_rwanda.tif')"
      ]
     },
     "execution_count": 26,
     "metadata": {},
     "output_type": "execute_result"
    }
   ],
   "source": [
    "clipped_meta = DIR_DATA / \"ntl/clipped_metadata.txt\"\n",
    "clipped_meta\n",
    "clipped_data = DIR_DATA / \"ntl/clipped_ntl_rwanda.tif\"\n",
    "clipped_data"
   ]
  },
  {
   "cell_type": "code",
   "execution_count": 34,
   "id": "2a375006",
   "metadata": {},
   "outputs": [
    {
     "ename": "AttributeError",
     "evalue": "module 'fiona' has no attribute 'path'",
     "output_type": "error",
     "traceback": [
      "\u001b[1;31m---------------------------------------------------------------------------\u001b[0m",
      "\u001b[1;31mAttributeError\u001b[0m                            Traceback (most recent call last)",
      "Cell \u001b[1;32mIn[34], line 9\u001b[0m\n\u001b[0;32m      6\u001b[0m clipped_raster_path \u001b[38;5;241m=\u001b[39m DIR_DATA \u001b[38;5;241m/\u001b[39m \u001b[38;5;124m\"\u001b[39m\u001b[38;5;124mntl/rwanda_2024_ntl.tif\u001b[39m\u001b[38;5;124m\"\u001b[39m\n\u001b[0;32m      8\u001b[0m \u001b[38;5;66;03m# Load level 0 boundaries in a GeoDataframe\u001b[39;00m\n\u001b[1;32m----> 9\u001b[0m gdf_adm0 \u001b[38;5;241m=\u001b[39m gp\u001b[38;5;241m.\u001b[39mread_file(FILE_SHP_ADM0)\n\u001b[0;32m     12\u001b[0m \u001b[38;5;66;03m# Call the clip raster function which utilises rasterio package\u001b[39;00m\n\u001b[0;32m     13\u001b[0m rwanda_raster_path \u001b[38;5;241m=\u001b[39m clip_raster_to_boundary(\n\u001b[0;32m     14\u001b[0m     FILE_NTL, \n\u001b[0;32m     15\u001b[0m     gdf_adm0, \n\u001b[0;32m     16\u001b[0m     clipped_raster_path\n\u001b[0;32m     17\u001b[0m )\n",
      "File \u001b[1;32mc:\\Users\\evariste.manirumva\\AppData\\Local\\anaconda3\\Lib\\site-packages\\geopandas\\io\\file.py:259\u001b[0m, in \u001b[0;36m_read_file\u001b[1;34m(filename, bbox, mask, rows, engine, **kwargs)\u001b[0m\n\u001b[0;32m    256\u001b[0m     path_or_bytes \u001b[38;5;241m=\u001b[39m filename\n\u001b[0;32m    258\u001b[0m \u001b[38;5;28;01mif\u001b[39;00m engine \u001b[38;5;241m==\u001b[39m \u001b[38;5;124m\"\u001b[39m\u001b[38;5;124mfiona\u001b[39m\u001b[38;5;124m\"\u001b[39m:\n\u001b[1;32m--> 259\u001b[0m     \u001b[38;5;28;01mreturn\u001b[39;00m _read_file_fiona(\n\u001b[0;32m    260\u001b[0m         path_or_bytes, from_bytes, bbox\u001b[38;5;241m=\u001b[39mbbox, mask\u001b[38;5;241m=\u001b[39mmask, rows\u001b[38;5;241m=\u001b[39mrows, \u001b[38;5;241m*\u001b[39m\u001b[38;5;241m*\u001b[39mkwargs\n\u001b[0;32m    261\u001b[0m     )\n\u001b[0;32m    262\u001b[0m \u001b[38;5;28;01melif\u001b[39;00m engine \u001b[38;5;241m==\u001b[39m \u001b[38;5;124m\"\u001b[39m\u001b[38;5;124mpyogrio\u001b[39m\u001b[38;5;124m\"\u001b[39m:\n\u001b[0;32m    263\u001b[0m     \u001b[38;5;28;01mreturn\u001b[39;00m _read_file_pyogrio(\n\u001b[0;32m    264\u001b[0m         path_or_bytes, bbox\u001b[38;5;241m=\u001b[39mbbox, mask\u001b[38;5;241m=\u001b[39mmask, rows\u001b[38;5;241m=\u001b[39mrows, \u001b[38;5;241m*\u001b[39m\u001b[38;5;241m*\u001b[39mkwargs\n\u001b[0;32m    265\u001b[0m     )\n",
      "File \u001b[1;32mc:\\Users\\evariste.manirumva\\AppData\\Local\\anaconda3\\Lib\\site-packages\\geopandas\\io\\file.py:280\u001b[0m, in \u001b[0;36m_read_file_fiona\u001b[1;34m(path_or_bytes, from_bytes, bbox, mask, rows, where, **kwargs)\u001b[0m\n\u001b[0;32m    274\u001b[0m     \u001b[38;5;28;01mraise\u001b[39;00m \u001b[38;5;167;01mNotImplementedError\u001b[39;00m(\u001b[38;5;124m\"\u001b[39m\u001b[38;5;124mwhere requires fiona 1.9+\u001b[39m\u001b[38;5;124m\"\u001b[39m)\n\u001b[0;32m    276\u001b[0m \u001b[38;5;28;01mif\u001b[39;00m \u001b[38;5;129;01mnot\u001b[39;00m from_bytes:\n\u001b[0;32m    277\u001b[0m     \u001b[38;5;66;03m# Opening a file via URL or file-like-object above automatically detects a\u001b[39;00m\n\u001b[0;32m    278\u001b[0m     \u001b[38;5;66;03m# zipped file. In order to match that behavior, attempt to add a zip scheme\u001b[39;00m\n\u001b[0;32m    279\u001b[0m     \u001b[38;5;66;03m# if missing.\u001b[39;00m\n\u001b[1;32m--> 280\u001b[0m     \u001b[38;5;28;01mif\u001b[39;00m _is_zip(\u001b[38;5;28mstr\u001b[39m(path_or_bytes)):\n\u001b[0;32m    281\u001b[0m         parsed \u001b[38;5;241m=\u001b[39m fiona\u001b[38;5;241m.\u001b[39mparse_path(\u001b[38;5;28mstr\u001b[39m(path_or_bytes))\n\u001b[0;32m    282\u001b[0m         \u001b[38;5;28;01mif\u001b[39;00m \u001b[38;5;28misinstance\u001b[39m(parsed, fiona\u001b[38;5;241m.\u001b[39mpath\u001b[38;5;241m.\u001b[39mParsedPath):\n\u001b[0;32m    283\u001b[0m             \u001b[38;5;66;03m# If fiona is able to parse the path, we can safely look at the scheme\u001b[39;00m\n\u001b[0;32m    284\u001b[0m             \u001b[38;5;66;03m# and update it to have a zip scheme if necessary.\u001b[39;00m\n",
      "File \u001b[1;32mc:\\Users\\evariste.manirumva\\AppData\\Local\\anaconda3\\Lib\\site-packages\\geopandas\\io\\file.py:164\u001b[0m, in \u001b[0;36m_is_zip\u001b[1;34m(path)\u001b[0m\n\u001b[0;32m    162\u001b[0m \u001b[38;5;28;01mdef\u001b[39;00m \u001b[38;5;21m_is_zip\u001b[39m(path):\n\u001b[0;32m    163\u001b[0m \u001b[38;5;250m    \u001b[39m\u001b[38;5;124;03m\"\"\"Check if a given path is a zipfile\"\"\"\u001b[39;00m\n\u001b[1;32m--> 164\u001b[0m     parsed \u001b[38;5;241m=\u001b[39m fiona\u001b[38;5;241m.\u001b[39mpath\u001b[38;5;241m.\u001b[39mParsedPath\u001b[38;5;241m.\u001b[39mfrom_uri(path)\n\u001b[0;32m    165\u001b[0m     \u001b[38;5;28;01mreturn\u001b[39;00m (\n\u001b[0;32m    166\u001b[0m         parsed\u001b[38;5;241m.\u001b[39marchive\u001b[38;5;241m.\u001b[39mendswith(\u001b[38;5;124m\"\u001b[39m\u001b[38;5;124m.zip\u001b[39m\u001b[38;5;124m\"\u001b[39m)\n\u001b[0;32m    167\u001b[0m         \u001b[38;5;28;01mif\u001b[39;00m parsed\u001b[38;5;241m.\u001b[39marchive\n\u001b[0;32m    168\u001b[0m         \u001b[38;5;28;01melse\u001b[39;00m parsed\u001b[38;5;241m.\u001b[39mpath\u001b[38;5;241m.\u001b[39mendswith(\u001b[38;5;124m\"\u001b[39m\u001b[38;5;124m.zip\u001b[39m\u001b[38;5;124m\"\u001b[39m)\n\u001b[0;32m    169\u001b[0m     )\n",
      "\u001b[1;31mAttributeError\u001b[0m: module 'fiona' has no attribute 'path'"
     ]
    }
   ],
   "source": [
    "# =============================================\n",
    "# CLIP THE GLOBAL RASTER TO RWANDA\n",
    "# ===============================================\n",
    "import geopandas as gp\n",
    "# Specify output clipped raster file\n",
    "clipped_raster_path = DIR_DATA / \"ntl/rwanda_2024_ntl.tif\"\n",
    "\n",
    "# Load level 0 boundaries in a GeoDataframe\n",
    "gdf_adm0 = gp.read_file(FILE_SHP_ADM0)\n",
    "\n",
    "\n",
    "# Call the clip raster function which utilises rasterio package\n",
    "rwanda_raster_path = clip_raster_to_boundary(\n",
    "    FILE_NTL, \n",
    "    gdf_adm0, \n",
    "    clipped_raster_path\n",
    ")\n"
   ]
  },
  {
   "cell_type": "markdown",
   "id": "51b329c3",
   "metadata": {},
   "source": [
    "### Visualize Clipped Raster"
   ]
  },
  {
   "cell_type": "code",
   "execution_count": null,
   "id": "0f7bc40b",
   "metadata": {},
   "outputs": [],
   "source": [
    "# =========================================\n",
    "# LOAD AND VISUALIZE THE CLIPPED RASTER\n",
    "# =========================================\n",
    "\n",
    "# Load cell boundaries\n",
    "gdf_adm4 = gp.read_file(FILE_SHP_ADM4)\n",
    "\n",
    "with rasterio.open(rwanda_raster_path) as src:\n",
    "    rwanda_nightlight = src.read(1)\n",
    "    rwanda_extent = [src.bounds.left, src.bounds.right, src.bounds.bottom, src.bounds.top]\n",
    "\n",
    "# Create visualization\n",
    "plt.figure(figsize=(15, 10))\n",
    "\n",
    "# Plot 1: Clipped raster\n",
    "plt.subplot(2, 2, 1)\n",
    "plt.imshow(rwanda_nightlight, extent=rwanda_extent, cmap='viridis', alpha=0.8)\n",
    "plt.colorbar(label='Nightlight Intensity', shrink=0.7)\n",
    "plt.title('Rwanda Nightlight Data (Clipped)')\n",
    "plt.xlabel('Longitude')\n",
    "plt.ylabel('Latitude')\n",
    "\n",
    "# Plot 2: Raster with district boundaries\n",
    "plt.subplot(2, 2, 2)\n",
    "plt.imshow(rwanda_nightlight, extent=rwanda_extent, cmap='viridis', alpha=0.8)\n",
    "rwanda_districts_plot = gdf_adm4.to_crs(gdf_adm0.crs) if gdf_adm4.crs != gdf_adm0.crs else gdf_adm4\n",
    "rwanda_districts_plot.boundary.plot(ax=plt.gca(), color='white', linewidth=0.5)\n",
    "plt.colorbar(label='Nightlight Intensity', shrink=0.7)\n",
    "plt.title('Rwanda Nightlight with District Boundaries')\n",
    "plt.xlabel('Longitude')\n",
    "plt.ylabel('Latitude')"
   ]
  },
  {
   "cell_type": "markdown",
   "id": "d7c0dad2",
   "metadata": {},
   "source": [
    "### Generate Cell Level Zonal Statistics"
   ]
  },
  {
   "cell_type": "code",
   "execution_count": null,
   "id": "b107a62b",
   "metadata": {},
   "outputs": [],
   "source": [
    "# ===================================================\n",
    "# GENERATING ZONAL STATISTICS WITH A CUSTOM SCRIPT\n",
    "# ===================================================\n",
    "\n",
    "# Create ZonalStatistics object using the clipped Rwanda data with\n",
    "# the following args\n",
    "# 1. Path of clipped night lights raster/image: rwanda_raster_path\n",
    "# 2. Path of administrative boundaries shapefile: FILE_SHP_ADM4\n",
    "# 3. Administrative level: 4\n",
    "\n",
    "admin_level = \"cell_id\"\n",
    "\n",
    "zs = ZonalStatistics(rwanda_raster_path, FILE_SHP_ADM4, admin_level)\n"
   ]
  },
  {
   "cell_type": "code",
   "execution_count": null,
   "id": "df0c36e8",
   "metadata": {},
   "outputs": [],
   "source": [
    "# Load the data (this will print information about the datasets)\n",
    "zs.load_data()\n"
   ]
  },
  {
   "cell_type": "code",
   "execution_count": null,
   "id": "e9e28e42",
   "metadata": {},
   "outputs": [],
   "source": [
    "# =======================================\n",
    "# DEFINE WHICH STATISTICS TO CALCULATE\n",
    "# =======================================\n",
    "stats_to_calculate = ['mean', 'median', 'count', \"sum\"]\n",
    "\n",
    "print(f\"Calculating statistics: {stats_to_calculate}\")\n",
    "print(\"This may take a few minutes depending on data size...\")\n",
    "\n",
    "# Calculate statistics\n",
    "df_stats = zs.calculate_statistics(stats_to_calculate)\n",
    "\n",
    "# Display results\n",
    "print(f\"\\nAnalysis complete! Results shape: {df_stats.shape}\")\n",
    "display(df_stats.head(10))"
   ]
  },
  {
   "cell_type": "code",
   "execution_count": null,
   "id": "f691f255",
   "metadata": {},
   "outputs": [],
   "source": [
    "# ==================================================\n",
    "# SAVE RESULTS\n",
    "# ==================================================\n",
    "\n",
    "# Ensure we grab region names from original shapefile\n",
    "cols2keep = ['cell_id', 'province_n', 'district_n', 'sector_nam', 'cell_name']\n",
    "df_stats2 = df_stats.merge(gdf_adm4[cols2keep], left_on=\"admin_name\", right_on='cell_id', how='left')\n",
    "\n",
    "# Save results with the following columns\n",
    "cols2keep = ['province_n', 'district_n', 'sector_nam',  'cell_name', 'mean', 'median', 'count',\n",
    "       'sum']\n",
    "\n",
    "df_stats2[cols2keep].to_csv(DIR_DATA / \"ntl/rw-adm4-ntl-stats.csv\", index=False)"
   ]
  },
  {
   "cell_type": "code",
   "execution_count": null,
   "id": "7d8839dc",
   "metadata": {},
   "outputs": [],
   "source": [
    "## Report on Cells with Largest Night Light Values\n",
    "largest_cells = df_stats2.nlargest(10, 'mean')\n",
    "print(\"Cells with the largest night light values:\")\n",
    "display(largest_cells)"
   ]
  }
 ],
 "metadata": {
  "kernelspec": {
   "display_name": "base",
   "language": "python",
   "name": "python3"
  },
  "language_info": {
   "codemirror_mode": {
    "name": "ipython",
    "version": 3
   },
   "file_extension": ".py",
   "mimetype": "text/x-python",
   "name": "python",
   "nbconvert_exporter": "python",
   "pygments_lexer": "ipython3",
   "version": "3.12.3"
  }
 },
 "nbformat": 4,
 "nbformat_minor": 5
}
